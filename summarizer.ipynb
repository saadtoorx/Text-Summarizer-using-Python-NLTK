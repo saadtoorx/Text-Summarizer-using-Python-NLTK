{
 "cells": [
  {
   "cell_type": "code",
   "execution_count": 1,
   "id": "72d791d9",
   "metadata": {},
   "outputs": [],
   "source": [
    "#Importing necessary libraries\n",
    "import nltk\n",
    "from nltk.corpus import stopwords\n",
    "from nltk.tokenize import word_tokenize, sent_tokenize"
   ]
  },
  {
   "cell_type": "code",
   "execution_count": 2,
   "id": "cc9fa726",
   "metadata": {},
   "outputs": [],
   "source": [
    "#Downloading Stopwords. (Only needed once, if code need to be run agin comment it)\n",
    "# nltk.download(\"stopwords\")\n",
    "# nltk.download(\"punkt\")"
   ]
  },
  {
   "cell_type": "code",
   "execution_count": 3,
   "id": "773a82ff",
   "metadata": {},
   "outputs": [],
   "source": [
    "#Function generating frequency based summary\n",
    "def summerize_text(text, num_sentences = 2): #The default value of num_Sentences is set to 2\n",
    "    #Tokenize text into sentences and words\n",
    "    sentences = sent_tokenize(text)\n",
    "    words = word_tokenize(text.lower())\n",
    "\n",
    "    #Filter out stopwords and non-alphabetic words\n",
    "    stop_words = set(stopwords.words(\"english\"))\n",
    "    word_frequencies = {}\n",
    "\n",
    "    for word in words:\n",
    "        if word.isalpha() and word not in stop_words:\n",
    "            word_frequencies[word] = word_frequencies.get(word, 0 ) + 1\n",
    "    \n",
    "    #Score each sentence based on word frequency\n",
    "    sentence_score = {}\n",
    "\n",
    "    for sentence in sentences:\n",
    "        for word in word_tokenize(sentence.lower()):\n",
    "            if word in word_frequencies:\n",
    "                sentence_score[sentence] = sentence_score.get(sentence, 0) + word_frequencies[word]\n",
    " \n",
    "    #Sort sentences by score and select the top 'num_sentences'\n",
    "    summary_sentences = sorted(sentence_score, key=sentence_score.get, reverse=True)[:num_sentences]\n",
    "    summary = \" \".join(summary_sentences)\n",
    "    return summary"
   ]
  },
  {
   "cell_type": "code",
   "execution_count": null,
   "id": "2ce5c4bc",
   "metadata": {},
   "outputs": [
    {
     "name": "stdout",
     "output_type": "stream",
     "text": [
      "\n",
      "✅ Summary:\n",
      " i love computer technology and exploring new aspects of life and technology. I am an electrical engineer and i am currently developing skills in artificial intelligence and cyber security.\n"
     ]
    }
   ],
   "source": [
    "# Get user input\n",
    "user_text = input(\"Enter the text you want to summarize:\\n\")\n",
    "\n",
    "# Generate and print summary\n",
    "summary = summerize_text(user_text, num_sentences=2)\n",
    "\n",
    "print(\"\\n✅ Summary:\\n\", summary)\n"
   ]
  },
  {
   "cell_type": "markdown",
   "id": "82f85dc2",
   "metadata": {},
   "source": []
  }
 ],
 "metadata": {
  "kernelspec": {
   "display_name": "Python 3",
   "language": "python",
   "name": "python3"
  },
  "language_info": {
   "codemirror_mode": {
    "name": "ipython",
    "version": 3
   },
   "file_extension": ".py",
   "mimetype": "text/x-python",
   "name": "python",
   "nbconvert_exporter": "python",
   "pygments_lexer": "ipython3",
   "version": "3.13.3"
  }
 },
 "nbformat": 4,
 "nbformat_minor": 5
}
